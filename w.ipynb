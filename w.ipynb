{
 "cells": [
  {
   "cell_type": "markdown",
   "metadata": {},
   "source": [
    " **Deep Neural Networks (DNN)** and **Convolutional Neural Networks (CNN)**:\n",
    "\n",
    "### Deep Neural Networks (DNN)\n",
    "1. **Definition**: A type of artificial neural network with multiple layers between the input and output layers.\n",
    "2. **Structure**: Composed of an input layer, hidden layers (multiple), and an output layer.\n",
    "3. **Function**: Learns to represent data through hierarchical feature learning.\n",
    "4. **Activation Functions**: Utilizes non-linear activation functions (e.g., ReLU, sigmoid) to introduce non-linearity.\n",
    "5. **Training**: Often trained using backpropagation and gradient descent.\n",
    "6. **Applications**: Used in various domains like speech recognition, image classification, and natural language processing.\n",
    "\n",
    "### Convolutional Neural Networks (CNN)\n",
    "1. **Definition**: A specialized type of DNN designed primarily for processing structured grid data, such as images.\n",
    "2. **Structure**: Includes convolutional layers, pooling layers, and fully connected layers.\n",
    "3. **Convolutional Layers**: Use filters (kernels) to scan input data and extract features through convolution operations.\n",
    "4. **Pooling Layers**: Reduce dimensionality by down-sampling the feature maps, retaining essential information while reducing computation.\n",
    "5. **Feature Hierarchy**: Automatically learns spatial hierarchies of features, from edges in early layers to complex patterns in deeper layers.\n",
    "6. **Applications**: Widely used in image and video recognition, medical image analysis, and autonomous vehicles.\n",
    "\n"
   ]
  },
  {
   "cell_type": "markdown",
   "metadata": {},
   "source": [
    "Load Data: MNIST dataset is loaded and preprocessed.\n",
    "Create Model: Simple CNN model with two Conv2D layers and max pooling.\n",
    "Data Augmentation: Apply random rotation and shifts.\n",
    "Train and Evaluate: Two models are trained and compared—one with original data and another with augmented data.\n",
    "Plot Results: The validation accuracy is plotted for both models."
   ]
  },
  {
   "cell_type": "markdown",
   "metadata": {},
   "source": [
    "A Convolutional Neural Network (CNN) is a deep learning model designed to automatically and efficiently learn spatial hierarchies of features from images or data through convolutional layers."
   ]
  },
  {
   "cell_type": "markdown",
   "metadata": {},
   "source": [
    "CNN hidden layers are intermediate convolutional, activation, and pooling layers that extract and transform features from the input data to learn patterns for accurate predictions."
   ]
  },
  {
   "cell_type": "markdown",
   "metadata": {},
   "source": [
    "ReLU (Rectified Linear Unit) activation sets all negative values to zero, allowing the network to learn complex patterns while keeping computations efficient."
   ]
  },
  {
   "cell_type": "markdown",
   "metadata": {},
   "source": [
    "A kernel size of (3,3) means the filter covers a 3x3 area of the input, and a stride of (1,1) moves the filter one step at a time horizontally and vertically."
   ]
  },
  {
   "cell_type": "markdown",
   "metadata": {},
   "source": [
    "Flatten layers convert multi-dimensional feature maps into a 1D vector to connect with fully connected (dense) layers for final predictions."
   ]
  },
  {
   "cell_type": "markdown",
   "metadata": {},
   "source": [
    "The MNIST database provides 70,000 handwritten digit images (28x28) used for training and testing machine learning models."
   ]
  },
  {
   "cell_type": "markdown",
   "metadata": {},
   "source": [
    "Data augmentation on the MNIST dataset applies random rotations and shifts to increase data diversity and improve model generalization."
   ]
  },
  {
   "cell_type": "markdown",
   "metadata": {},
   "source": []
  }
 ],
 "metadata": {
  "language_info": {
   "name": "python"
  }
 },
 "nbformat": 4,
 "nbformat_minor": 2
}
